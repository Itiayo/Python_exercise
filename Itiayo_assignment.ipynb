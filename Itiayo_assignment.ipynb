{
 "cells": [
  {
   "cell_type": "code",
   "execution_count": null,
   "id": "d7559216-c8c1-4c78-9f21-49ebf3e57e81",
   "metadata": {},
   "outputs": [],
   "source": [
    "# Assignment"
   ]
  },
  {
   "cell_type": "markdown",
   "id": "0b1a1f72-b63d-4512-bf1c-9ec1115e8f3c",
   "metadata": {},
   "source": [
    "##### Instructions\n",
    "\n",
    "`Read the question carefully`: Ensure you fully understand the problem before starting.\n",
    "\n",
    "`Write your code`: Enter your solution in the cell provided directly below the question, where it says `# Write your code here`.\n",
    "\n",
    "`Test your function`: Each question includes a `function call` that allows you to test your solution. If you're unsure, refer back to the notebook for guidance.\n",
    "\n",
    "`Rename your notebook`: Once completed, rename your notebook using your name in the following format: `YourName_Assignment` (e.g., Kene_Assignment).\n",
    "\n",
    "`Submit your work`: Send the renamed notebook to me via DM.\n",
    "\n",
    "Good luck!"
   ]
  },
  {
   "cell_type": "markdown",
   "id": "d7ac871a-e97f-4855-a02f-0fef4952e118",
   "metadata": {},
   "source": [
    "### Question 1 \n",
    "Write a Python program that checks if a number is `even` or `odd`.\n",
    "\n",
    "Hint: Use the modulus operator `%` to determine the remainder when dividing by `2`."
   ]
  },
  {
   "cell_type": "code",
   "execution_count": 9,
   "id": "06680694-d97a-438e-b124-d2b9fc8469ff",
   "metadata": {},
   "outputs": [],
   "source": [
    "# write your code here\n",
    "\n",
    "def even_or_odd(numbers):\n",
    "    if numbers % 2 == 0:\n",
    "        return \"even\"\n",
    "    else:\n",
    "        return \"odd\""
   ]
  },
  {
   "cell_type": "code",
   "execution_count": 12,
   "id": "000496bc-031f-4ed9-9f6d-b22a8598c43f",
   "metadata": {},
   "outputs": [
    {
     "name": "stdout",
     "output_type": "stream",
     "text": [
      "even\n"
     ]
    }
   ],
   "source": [
    "print (even_or_odd(6))"
   ]
  },
  {
   "cell_type": "code",
   "execution_count": 13,
   "id": "66238469-1289-454c-ac73-6aa6e93121d4",
   "metadata": {},
   "outputs": [
    {
     "name": "stdout",
     "output_type": "stream",
     "text": [
      "odd\n"
     ]
    }
   ],
   "source": [
    "print (even_or_odd(5))"
   ]
  },
  {
   "cell_type": "markdown",
   "id": "36428b66-1a1a-4fb5-907c-28beeceabe79",
   "metadata": {},
   "source": [
    "### Question 2 \n",
    "Write a program that asks the user for a temperature in `Celsius` and converts it to `Fahrenheit`. If the temperature is below 0°C, print `Freezing point`.\n",
    "\n",
    "Hint: The formula for conversion is `(Celsius * 9/5) + 32`."
   ]
  },
  {
   "cell_type": "code",
   "execution_count": 1,
   "id": "7e322530-0376-4f86-bc88-ef23ba40e1f1",
   "metadata": {},
   "outputs": [],
   "source": [
    "# write your code here\n",
    "\n",
    "def celsius_to_fahrenheit(temp_in_celsius):\n",
    "    \n",
    "    temp_in_celsius = int(input(\"temperature in celsius:\"))\n",
    "    if temp_in_celsius < 0:\n",
    "        print (\"Freezing point\")\n",
    "\n",
    "    temp_in_fahrenheit = ((temp_in_celsius * 9/5) + 32 )\n",
    "    print (temp_in_fahrenheit)\n"
   ]
  },
  {
   "cell_type": "code",
   "execution_count": 2,
   "id": "0d29b915-9607-4421-ae24-47d85e5eff27",
   "metadata": {},
   "outputs": [
    {
     "name": "stdin",
     "output_type": "stream",
     "text": [
      "temperature in celsius: 5\n"
     ]
    },
    {
     "name": "stdout",
     "output_type": "stream",
     "text": [
      "41.0\n"
     ]
    }
   ],
   "source": [
    "celsius_to_fahrenheit(5)"
   ]
  },
  {
   "cell_type": "code",
   "execution_count": 3,
   "id": "83123189-154c-4105-aa64-a5a85e71c14f",
   "metadata": {},
   "outputs": [
    {
     "name": "stdin",
     "output_type": "stream",
     "text": [
      "temperature in celsius: -5\n"
     ]
    },
    {
     "name": "stdout",
     "output_type": "stream",
     "text": [
      "Freezing point\n",
      "23.0\n"
     ]
    }
   ],
   "source": [
    "celsius_to_fahrenheit(-5)"
   ]
  },
  {
   "cell_type": "markdown",
   "id": "f0ea6b6c-701b-433d-a897-f5f12ec2f539",
   "metadata": {},
   "source": [
    "### Question 3\n",
    "Write a Python program to check if a number is `positive`, `negative`, or `zero`.\n",
    "\n",
    "Hint: Use an if-elif-else structure to handle the three possible conditions."
   ]
  },
  {
   "cell_type": "code",
   "execution_count": 85,
   "id": "8d049659-aed3-4f75-bcb5-1bbfa61ab578",
   "metadata": {},
   "outputs": [],
   "source": [
    "# write your code here\n",
    "\n",
    "def type_of_number(x):\n",
    "    if x > 0:\n",
    "        return \"positive\"\n",
    "    elif x < 0:\n",
    "        return \"negative\"\n",
    "    else:\n",
    "        return \"zero\""
   ]
  },
  {
   "cell_type": "code",
   "execution_count": 86,
   "id": "f763dc94-22d2-4e55-979c-a3f7e778aea4",
   "metadata": {},
   "outputs": [
    {
     "name": "stdout",
     "output_type": "stream",
     "text": [
      "positive\n"
     ]
    }
   ],
   "source": [
    "print (type_of_number(21))"
   ]
  },
  {
   "cell_type": "code",
   "execution_count": 19,
   "id": "ffc7db4a-d625-4728-aada-e03359a31bf7",
   "metadata": {},
   "outputs": [
    {
     "name": "stdout",
     "output_type": "stream",
     "text": [
      "negative\n"
     ]
    }
   ],
   "source": [
    "print (type_of_number(-10))"
   ]
  },
  {
   "cell_type": "code",
   "execution_count": 20,
   "id": "bfa50c6c-1c05-485c-9268-239a1edc6736",
   "metadata": {},
   "outputs": [
    {
     "name": "stdout",
     "output_type": "stream",
     "text": [
      "zero\n"
     ]
    }
   ],
   "source": [
    "print (type_of_number(0))"
   ]
  },
  {
   "cell_type": "markdown",
   "id": "78d7be36-e932-4947-b539-3dad4fe547eb",
   "metadata": {},
   "source": [
    "### Question 4\n",
    "Write a Python program that prints all the numbers from 1 to 50, but for multiples of 3, print `Fizz` instead of the number, and for multiples of 5, print `Buzz`. For numbers that are multiples of both 3 and 5, print `FizzBuzz`.\n",
    "\n",
    "Hint: Use a for loop and conditional statements inside the loop."
   ]
  },
  {
   "cell_type": "code",
   "execution_count": 135,
   "id": "200dcc99-6392-49c1-baeb-d5a6aac337ab",
   "metadata": {},
   "outputs": [
    {
     "name": "stdout",
     "output_type": "stream",
     "text": [
      "1\n",
      "2\n",
      "fizz\n",
      "4\n",
      "buzz\n",
      "fizz\n",
      "7\n",
      "8\n",
      "fizz\n",
      "buzz\n",
      "11\n",
      "fizz\n",
      "13\n",
      "14\n",
      "fizzbuzz\n",
      "16\n",
      "17\n",
      "fizz\n",
      "19\n",
      "buzz\n",
      "fizz\n",
      "22\n",
      "23\n",
      "fizz\n",
      "buzz\n",
      "26\n",
      "fizz\n",
      "28\n",
      "29\n",
      "fizzbuzz\n",
      "31\n",
      "32\n",
      "fizz\n",
      "34\n",
      "buzz\n",
      "fizz\n",
      "37\n",
      "38\n",
      "fizz\n",
      "buzz\n",
      "41\n",
      "fizz\n",
      "43\n",
      "44\n",
      "fizzbuzz\n",
      "46\n",
      "47\n",
      "fizz\n",
      "49\n",
      "buzz\n"
     ]
    }
   ],
   "source": [
    "# write your code here\n",
    "\n",
    "for i in range(1,51):\n",
    "    if i % 3 == 0 and i % 5 == 0:\n",
    "        print (\"fizzbuzz\")\n",
    "    elif i % 3 == 0:\n",
    "        print (\"fizz\")\n",
    "    elif i % 5 == 0:\n",
    "        print (\"buzz\")\n",
    "    else:\n",
    "        print (i)\n",
    "    "
   ]
  },
  {
   "cell_type": "code",
   "execution_count": 146,
   "id": "5c6ae3e3-7d25-4b2c-950f-59e47638c923",
   "metadata": {},
   "outputs": [],
   "source": [
    "def multiples_of_three_and_five(i):\n",
    "    \n",
    "    if i % 3 == 0 and i % 5 == 0:\n",
    "        return \"fizzbuzz\"\n",
    "    elif i % 3 == 0:\n",
    "        return \"fizz\"\n",
    "    elif i % 5 == 0:\n",
    "        return \"buzz\"\n",
    "    else:\n",
    "        return \"null\""
   ]
  },
  {
   "cell_type": "code",
   "execution_count": 147,
   "id": "2706331c-99e2-4f79-a09d-e6b348da3690",
   "metadata": {},
   "outputs": [
    {
     "data": {
      "text/plain": [
       "'null'"
      ]
     },
     "execution_count": 147,
     "metadata": {},
     "output_type": "execute_result"
    }
   ],
   "source": [
    "multiples_of_three_and_five(1)"
   ]
  },
  {
   "cell_type": "markdown",
   "id": "692604c6-b072-476e-9833-ec48437fbae4",
   "metadata": {},
   "source": [
    "### Question 5\n",
    "Create a program that `asks` the user for a number and prints the `multiplication table` for that number `(up to 10)`.\n",
    "\n",
    "Hint: Use a for loop to iterate through the numbers 1 to 10."
   ]
  },
  {
   "cell_type": "code",
   "execution_count": 66,
   "id": "16de9b6a-3c7d-4811-84d9-f182852feffc",
   "metadata": {},
   "outputs": [],
   "source": [
    "# write your code here\n",
    "\n",
    "def multiplication_table(number):\n",
    "    print(f\"Multiplication table for {number}\")\n",
    "    for i in range(1, 11):\n",
    "        print(f\"{number} x {i} = {number * i}\")"
   ]
  },
  {
   "cell_type": "code",
   "execution_count": 67,
   "id": "a3476a7c-05c1-4ce4-ba0e-118485ba04cc",
   "metadata": {},
   "outputs": [
    {
     "name": "stdout",
     "output_type": "stream",
     "text": [
      "Multiplication table for 9\n",
      "9 x 1 = 9\n",
      "9 x 2 = 18\n",
      "9 x 3 = 27\n",
      "9 x 4 = 36\n",
      "9 x 5 = 45\n",
      "9 x 6 = 54\n",
      "9 x 7 = 63\n",
      "9 x 8 = 72\n",
      "9 x 9 = 81\n",
      "9 x 10 = 90\n",
      "None\n"
     ]
    }
   ],
   "source": [
    "print (multiplication_table(9))"
   ]
  },
  {
   "cell_type": "code",
   "execution_count": 50,
   "id": "4e201e35-9f41-4528-9238-c9d8d783a0b6",
   "metadata": {},
   "outputs": [
    {
     "name": "stdin",
     "output_type": "stream",
     "text": [
      "enter your number 2\n"
     ]
    },
    {
     "name": "stdout",
     "output_type": "stream",
     "text": [
      "2 x 1 = 2\n",
      "2 x 2 = 4\n",
      "2 x 3 = 6\n",
      "2 x 4 = 8\n",
      "2 x 5 = 10\n",
      "2 x 6 = 12\n",
      "2 x 7 = 14\n",
      "2 x 8 = 16\n",
      "2 x 9 = 18\n",
      "2 x 10 = 20\n"
     ]
    }
   ],
   "source": [
    "number = int(input(\"enter your number\"))\n",
    "for i in range(1,11):\n",
    "    print(f\"{number} x {i} = {number * i}\")"
   ]
  },
  {
   "cell_type": "markdown",
   "id": "e1db055c-0ae4-4383-a41c-dca51f10bb8a",
   "metadata": {},
   "source": [
    "### Question 6\n",
    "\n",
    "Write a program that `asks` the user for `5 numbers` and then `finds` and `prints` the `smallest number`."
   ]
  },
  {
   "cell_type": "code",
   "execution_count": 198,
   "id": "6141a1b7-0307-4398-82d2-bcc5b3143621",
   "metadata": {},
   "outputs": [
    {
     "name": "stdout",
     "output_type": "stream",
     "text": [
      "2\n"
     ]
    }
   ],
   "source": [
    "# write your code here\n",
    "numbers = [2, 4, 6, 8, 10]\n",
    "print (min(numbers))"
   ]
  },
  {
   "cell_type": "code",
   "execution_count": 80,
   "id": "0a5710eb-d416-4eb6-95c3-fb21509eb6cc",
   "metadata": {},
   "outputs": [
    {
     "name": "stdin",
     "output_type": "stream",
     "text": [
      "Enter 5 numbers separated by a comma 10, 2, 5, 3, 6\n"
     ]
    },
    {
     "name": "stdout",
     "output_type": "stream",
     "text": [
      "2\n"
     ]
    }
   ],
   "source": [
    "numbers = input(\"Enter 5 numbers separated by a comma\")\n",
    "new_numbers = numbers.split(\",\")\n",
    "if len(new_numbers) == 5:\n",
    "    min = None\n",
    "    for i in range(len(new_numbers)):\n",
    "        new_min = int(new_numbers[i])\n",
    "        if min is None or new_min < min:\n",
    "            min = new_min\n",
    "    print(min)\n",
    "else:\n",
    "    print('numbers not 5')"
   ]
  },
  {
   "cell_type": "code",
   "execution_count": 78,
   "id": "ff1e716c-0920-4811-aa4c-a7feb6d9824c",
   "metadata": {},
   "outputs": [
    {
     "name": "stdin",
     "output_type": "stream",
     "text": [
      "Enter 5 numbers separated by a comma 10, 6, 2, 5, 8\n"
     ]
    },
    {
     "name": "stdout",
     "output_type": "stream",
     "text": [
      "2\n"
     ]
    }
   ],
   "source": [
    "numbers = input(\"Enter 5 numbers separated by a comma\")\n",
    "new_numbers = numbers.split(\",\")\n",
    "if len(new_numbers) == 5:\n",
    "    min = int(new_numbers[0])\n",
    "    for i in range(len(new_numbers)):\n",
    "        new_min = int(new_numbers[i])\n",
    "        if min is None or new_min < min:\n",
    "            min = new_min\n",
    "    print(min)\n",
    "else:\n",
    "    print('numbers not 5')"
   ]
  },
  {
   "cell_type": "markdown",
   "id": "d9ca27c5-bf87-4303-ab77-4416eb13ee2d",
   "metadata": {},
   "source": [
    "### Question 7\n",
    "Write a function `is_even(n)` that returns `True` if a number is even, and `False` otherwise.\n",
    "\n",
    "Hint: The function should return the result of the condition `n % 2 == 0`."
   ]
  },
  {
   "cell_type": "code",
   "execution_count": 67,
   "id": "160e2dfb-bb8a-4de8-bfe4-4a11cde95ce4",
   "metadata": {},
   "outputs": [],
   "source": [
    "# write your code here\n",
    "def is_even(n):\n",
    "    if n % 2 == 0:\n",
    "        return \"True\"\n",
    "    else:\n",
    "        return \"False\"\n",
    "  "
   ]
  },
  {
   "cell_type": "code",
   "execution_count": 68,
   "id": "9c970a5a-6b57-48a3-be98-923457541c6b",
   "metadata": {},
   "outputs": [
    {
     "data": {
      "text/plain": [
       "'True'"
      ]
     },
     "execution_count": 68,
     "metadata": {},
     "output_type": "execute_result"
    }
   ],
   "source": [
    "# is_even(78) is function call to test the about function\n",
    "\n",
    "is_even(78)"
   ]
  },
  {
   "cell_type": "markdown",
   "id": "08631e66-d2e6-4f3b-bc33-fadc673d4beb",
   "metadata": {},
   "source": [
    "### Question 8\n",
    "Write a function `count_vowels(s)` that returns the number of vowels in a given string.\n",
    "\n",
    "Hint: Use a loop to iterate through the string and count characters that are vowels."
   ]
  },
  {
   "cell_type": "code",
   "execution_count": 101,
   "id": "8cb6cff9-0e89-4a10-8055-78cf5c635bd1",
   "metadata": {},
   "outputs": [],
   "source": [
    "# write your code here\n",
    "\n",
    "def count_vowels(s):\n",
    "    vowels = \"aeiou\"\n",
    "    count = 0\n",
    "    for keys in s:\n",
    "        if keys in vowels:\n",
    "            count += 1\n",
    "    return count"
   ]
  },
  {
   "cell_type": "code",
   "execution_count": 102,
   "id": "fd318098-c064-45b2-bbd9-a4df6c4be258",
   "metadata": {},
   "outputs": [
    {
     "data": {
      "text/plain": [
       "5"
      ]
     },
     "execution_count": 102,
     "metadata": {},
     "output_type": "execute_result"
    }
   ],
   "source": [
    "# count_vowels(education) is function call to test the above function\n",
    "\n",
    "count_vowels(\"education\")"
   ]
  },
  {
   "cell_type": "code",
   "execution_count": 103,
   "id": "0228823f-ca1e-4cf7-8857-ce616deb100f",
   "metadata": {},
   "outputs": [
    {
     "data": {
      "text/plain": [
       "5"
      ]
     },
     "execution_count": 103,
     "metadata": {},
     "output_type": "execute_result"
    }
   ],
   "source": [
    "count_vowels(\"EeducationAl\")"
   ]
  },
  {
   "cell_type": "code",
   "execution_count": 126,
   "id": "b4d543fc-6754-4ab9-ba7d-bf2ad55d8d94",
   "metadata": {},
   "outputs": [],
   "source": [
    "def count_vowels(s):\n",
    "    count = 0\n",
    "    for i in s:\n",
    "        if i in (\"a\", \"e\", \"i\", \"o\", \"u\", \"A\", \"E\", \"I\", \"O\", \"U\"):\n",
    "            count = count + 1\n",
    "    return count"
   ]
  },
  {
   "cell_type": "markdown",
   "id": "f9479533-d293-419e-9eb9-192c224ca305",
   "metadata": {},
   "source": [
    "# Question 9\n",
    "Create a function `calculate_area()` that asks the user for the radius of a circle and returns the area of the circle.\n",
    "\n",
    "\n",
    "Hint: Use the formula `area = π * r^2`. The value of π can be approximated as `3.14159`."
   ]
  },
  {
   "cell_type": "code",
   "execution_count": 112,
   "id": "6f4441c6-da13-4634-8200-2c257a6fd988",
   "metadata": {},
   "outputs": [],
   "source": [
    "# write your code here\n",
    "\n",
    "def calculate_area(r):\n",
    "    area = 3.14159 * r ** 2\n",
    "    \n",
    "    return area"
   ]
  },
  {
   "cell_type": "code",
   "execution_count": 113,
   "id": "ffe5dcb4-39a1-43d5-a6f8-47b20411029f",
   "metadata": {},
   "outputs": [
    {
     "data": {
      "text/plain": [
       "78.53975"
      ]
     },
     "execution_count": 113,
     "metadata": {},
     "output_type": "execute_result"
    }
   ],
   "source": [
    "# calculate_area() is function call to test the above function\n",
    "\n",
    "calculate_area(5)"
   ]
  },
  {
   "cell_type": "markdown",
   "id": "49213d9f-20e5-441c-8e08-09e264ff902f",
   "metadata": {},
   "source": [
    "# Question 10\n",
    "Write a function find_max() that takes a list of numbers as input and returns the largest number.\n",
    "\n",
    "Hint: Use a loop to compare each element with the current maximum."
   ]
  },
  {
   "cell_type": "code",
   "execution_count": 119,
   "id": "08cde890-b290-4a2b-977f-0d75d0a7eaa1",
   "metadata": {},
   "outputs": [],
   "source": [
    "# write your code here\n",
    "\n",
    "def find_max(integers):\n",
    "    \n",
    "    if len(integers) == 0:\n",
    "        return None\n",
    "    max = integers[0]\n",
    "    for number in integers[1:]:\n",
    "        if number > max:\n",
    "            max = number\n",
    "            \n",
    "    return max"
   ]
  },
  {
   "cell_type": "code",
   "execution_count": 120,
   "id": "e8dc3822-51ed-4669-a5b5-61ac67ba5183",
   "metadata": {},
   "outputs": [
    {
     "data": {
      "text/plain": [
       "4"
      ]
     },
     "execution_count": 120,
     "metadata": {},
     "output_type": "execute_result"
    }
   ],
   "source": [
    "# find_max()  is function call to test the above function\n",
    "\n",
    "find_max([2,3,4])"
   ]
  },
  {
   "cell_type": "code",
   "execution_count": 127,
   "id": "a95b412e-a0d9-4f81-b7a5-0c933148009e",
   "metadata": {},
   "outputs": [],
   "source": [
    "def find_max(integers):\n",
    "\n",
    "    if len(integers) == 0:\n",
    "        return None\n",
    "    max = integers[0]\n",
    "    for number in integers[1:]:\n",
    "        if number > max:\n",
    "            max = number\n",
    "            \n",
    "    print(max)"
   ]
  },
  {
   "cell_type": "code",
   "execution_count": 128,
   "id": "dc218aae-f334-4deb-bca7-dedfd9937895",
   "metadata": {},
   "outputs": [
    {
     "name": "stdin",
     "output_type": "stream",
     "text": [
      "enter your numbers 2,78977\n"
     ]
    },
    {
     "name": "stdout",
     "output_type": "stream",
     "text": [
      "9\n"
     ]
    }
   ],
   "source": [
    "find_max(list(input(\"enter your numbers\")))"
   ]
  },
  {
   "cell_type": "code",
   "execution_count": 124,
   "id": "036c5dd9-e9e6-492c-9c04-6ecc5fa5760e",
   "metadata": {},
   "outputs": [],
   "source": [
    "def find_max(numbers):\n",
    "    numbers.sort()\n",
    "    print(numbers[-1])\n"
   ]
  },
  {
   "cell_type": "code",
   "execution_count": 125,
   "id": "08323c33-2187-4112-a8ff-cdc83260ac0d",
   "metadata": {},
   "outputs": [
    {
     "name": "stdout",
     "output_type": "stream",
     "text": [
      "9\n"
     ]
    }
   ],
   "source": [
    "find_max([2, 9, 8, 6, 4])\n"
   ]
  }
 ],
 "metadata": {
  "kernelspec": {
   "display_name": "Python 3 (ipykernel)",
   "language": "python",
   "name": "python3"
  },
  "language_info": {
   "codemirror_mode": {
    "name": "ipython",
    "version": 3
   },
   "file_extension": ".py",
   "mimetype": "text/x-python",
   "name": "python",
   "nbconvert_exporter": "python",
   "pygments_lexer": "ipython3",
   "version": "3.11.9"
  },
  "widgets": {
   "application/vnd.jupyter.widget-state+json": {
    "state": {},
    "version_major": 2,
    "version_minor": 0
   }
  }
 },
 "nbformat": 4,
 "nbformat_minor": 5
}
